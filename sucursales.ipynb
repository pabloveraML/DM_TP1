{
 "cells": [
  {
   "cell_type": "code",
   "execution_count": 1,
   "metadata": {},
   "outputs": [],
   "source": [
    "import pandas as pd\n"
   ]
  },
  {
   "cell_type": "code",
   "execution_count": 2,
   "metadata": {},
   "outputs": [],
   "source": [
    "df = pd.read_csv('sucursales_corregido.csv')"
   ]
  },
  {
   "cell_type": "code",
   "execution_count": 3,
   "metadata": {},
   "outputs": [
    {
     "data": {
      "text/html": [
       "<div>\n",
       "<style scoped>\n",
       "    .dataframe tbody tr th:only-of-type {\n",
       "        vertical-align: middle;\n",
       "    }\n",
       "\n",
       "    .dataframe tbody tr th {\n",
       "        vertical-align: top;\n",
       "    }\n",
       "\n",
       "    .dataframe thead th {\n",
       "        text-align: right;\n",
       "    }\n",
       "</style>\n",
       "<table border=\"1\" class=\"dataframe\">\n",
       "  <thead>\n",
       "    <tr style=\"text-align: right;\">\n",
       "      <th></th>\n",
       "      <th>Unnamed: 0</th>\n",
       "      <th>_id</th>\n",
       "      <th>banderaDescripcion</th>\n",
       "      <th>banderaId</th>\n",
       "      <th>comercioId</th>\n",
       "      <th>comercioRazonSocial</th>\n",
       "      <th>direccion</th>\n",
       "      <th>id</th>\n",
       "      <th>lat</th>\n",
       "      <th>lng</th>\n",
       "      <th>localidad</th>\n",
       "      <th>provincia</th>\n",
       "      <th>sucursalId</th>\n",
       "      <th>sucursalNombre</th>\n",
       "      <th>sucursalTipo</th>\n",
       "      <th>geometry</th>\n",
       "    </tr>\n",
       "  </thead>\n",
       "  <tbody>\n",
       "    <tr>\n",
       "      <th>483</th>\n",
       "      <td>483</td>\n",
       "      <td>5cbc698b7af152186c0cd322</td>\n",
       "      <td>COTO CICSA</td>\n",
       "      <td>1</td>\n",
       "      <td>12</td>\n",
       "      <td>Coto Centro Integral de Comercialización S.A.</td>\n",
       "      <td>Yerbal 1062</td>\n",
       "      <td>12-1-116</td>\n",
       "      <td>-34.621160</td>\n",
       "      <td>-58.445992</td>\n",
       "      <td>Caballito</td>\n",
       "      <td>AR-C</td>\n",
       "      <td>116</td>\n",
       "      <td>YERBAL</td>\n",
       "      <td>Supermercado</td>\n",
       "      <td>POINT (-58.445992 -34.62116)</td>\n",
       "    </tr>\n",
       "    <tr>\n",
       "      <th>551</th>\n",
       "      <td>551</td>\n",
       "      <td>5cbc698b7af152186c0cd366</td>\n",
       "      <td>Market</td>\n",
       "      <td>2</td>\n",
       "      <td>10</td>\n",
       "      <td>INC S.A.</td>\n",
       "      <td>Av. Santa Fe 1954</td>\n",
       "      <td>10-2-116</td>\n",
       "      <td>-34.595813</td>\n",
       "      <td>-58.395425</td>\n",
       "      <td>recoleta</td>\n",
       "      <td>AR-C</td>\n",
       "      <td>116</td>\n",
       "      <td>Av. Santa Fe 1954</td>\n",
       "      <td>Supermercado</td>\n",
       "      <td>POINT (-58.395425 -34.595813)</td>\n",
       "    </tr>\n",
       "  </tbody>\n",
       "</table>\n",
       "</div>"
      ],
      "text/plain": [
       "     Unnamed: 0                       _id banderaDescripcion  banderaId  \\\n",
       "483         483  5cbc698b7af152186c0cd322         COTO CICSA          1   \n",
       "551         551  5cbc698b7af152186c0cd366             Market          2   \n",
       "\n",
       "     comercioId                            comercioRazonSocial  \\\n",
       "483          12  Coto Centro Integral de Comercialización S.A.   \n",
       "551          10                                       INC S.A.   \n",
       "\n",
       "             direccion        id        lat        lng  localidad provincia  \\\n",
       "483        Yerbal 1062  12-1-116 -34.621160 -58.445992  Caballito      AR-C   \n",
       "551  Av. Santa Fe 1954  10-2-116 -34.595813 -58.395425   recoleta      AR-C   \n",
       "\n",
       "     sucursalId     sucursalNombre  sucursalTipo  \\\n",
       "483         116            YERBAL   Supermercado   \n",
       "551         116  Av. Santa Fe 1954  Supermercado   \n",
       "\n",
       "                          geometry  \n",
       "483   POINT (-58.445992 -34.62116)  \n",
       "551  POINT (-58.395425 -34.595813)  "
      ]
     },
     "execution_count": 3,
     "metadata": {},
     "output_type": "execute_result"
    }
   ],
   "source": [
    "df[df['sucursalId']==116]"
   ]
  },
  {
   "cell_type": "code",
   "execution_count": null,
   "metadata": {},
   "outputs": [],
   "source": [
    "df_suc = "
   ]
  }
 ],
 "metadata": {
  "kernelspec": {
   "display_name": "Python 3",
   "language": "python",
   "name": "python3"
  },
  "language_info": {
   "codemirror_mode": {
    "name": "ipython",
    "version": 3
   },
   "file_extension": ".py",
   "mimetype": "text/x-python",
   "name": "python",
   "nbconvert_exporter": "python",
   "pygments_lexer": "ipython3",
   "version": "3.7.1"
  }
 },
 "nbformat": 4,
 "nbformat_minor": 2
}
