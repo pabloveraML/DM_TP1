{
 "cells": [
  {
   "cell_type": "code",
   "execution_count": 1,
   "metadata": {},
   "outputs": [],
   "source": [
    "import numpy as np"
   ]
  },
  {
   "cell_type": "code",
   "execution_count": 2,
   "metadata": {},
   "outputs": [
    {
     "ename": "ModuleNotFoundError",
     "evalue": "No module named 'shapely'",
     "output_type": "error",
     "traceback": [
      "\u001b[1;31m---------------------------------------------------------------------------\u001b[0m",
      "\u001b[1;31mModuleNotFoundError\u001b[0m                       Traceback (most recent call last)",
      "\u001b[1;32m<ipython-input-2-ea0463bbf055>\u001b[0m in \u001b[0;36m<module>\u001b[1;34m\u001b[0m\n\u001b[1;32m----> 1\u001b[1;33m \u001b[1;32mfrom\u001b[0m \u001b[0mshapely\u001b[0m \u001b[1;32mimport\u001b[0m \u001b[0mwkt\u001b[0m\u001b[1;33m\u001b[0m\u001b[1;33m\u001b[0m\u001b[0m\n\u001b[0m",
      "\u001b[1;31mModuleNotFoundError\u001b[0m: No module named 'shapely'"
     ]
    }
   ],
   "source": [
    "from shapely import wkt"
   ]
  },
  {
   "cell_type": "code",
   "execution_count": null,
   "metadata": {},
   "outputs": [],
   "source": [
    "import pandas as pd\n",
    "import geopandas as gpd\n",
    "from shapely.geometry import Point, Polygon\n",
    "import matplotlib.pyplot as plt\n",
    "import seaborn as sns\n",
    "%matplotlib inline"
   ]
  },
  {
   "cell_type": "markdown",
   "metadata": {},
   "source": [
    "## 1. Cargamos los .json a DataFrames"
   ]
  },
  {
   "cell_type": "code",
   "execution_count": null,
   "metadata": {},
   "outputs": [],
   "source": [
    "sucursales = pd.read_json('../data/sucursales.json', lines=True)\n",
    "precios = pd.read_json('../data/precios.json', lines=True)\n",
    "productos = pd.read_json('../data/productos.json', lines=True)"
   ]
  },
  {
   "cell_type": "markdown",
   "metadata": {},
   "source": [
    "## 2. Corregimos errores de loading de los datos"
   ]
  },
  {
   "cell_type": "code",
   "execution_count": null,
   "metadata": {},
   "outputs": [],
   "source": [
    "precios[\"fecha\"]=list(map(lambda x: x[\"$date\"],precios[\"fecha\"]))\n",
    "precios[\"_id\"]=list(map(lambda x: x[\"$oid\"],precios[\"_id\"]))\n",
    "productos[\"_id\"]=list(map(lambda x: x[\"$oid\"],productos[\"_id\"]))\n",
    "sucursales[\"_id\"]=list(map(lambda x: x[\"$oid\"],sucursales[\"_id\"]))"
   ]
  },
  {
   "cell_type": "markdown",
   "metadata": {},
   "source": [
    "## 3. Desglosamos la fecha en año, mes, dia y semana"
   ]
  },
  {
   "cell_type": "code",
   "execution_count": null,
   "metadata": {},
   "outputs": [],
   "source": [
    "precios[\"year\"] = pd.DatetimeIndex(precios[\"fecha\"]).year\n",
    "precios[\"month\"] = pd.DatetimeIndex(precios[\"fecha\"]).month\n",
    "precios[\"day\"] = pd.DatetimeIndex(precios[\"fecha\"]).day\n",
    "precios[\"week\"] = pd.DatetimeIndex(precios[\"fecha\"]).week"
   ]
  },
  {
   "cell_type": "markdown",
   "metadata": {},
   "source": [
    "## 4. Unificamos los datos en un DataFrame"
   ]
  },
  {
   "cell_type": "code",
   "execution_count": null,
   "metadata": {},
   "outputs": [],
   "source": [
    "precio_producto=precios.merge(productos,left_on='producto',right_on='id')"
   ]
  },
  {
   "cell_type": "code",
   "execution_count": null,
   "metadata": {},
   "outputs": [],
   "source": [
    "precio_producto_sucursal = precio_producto.merge(sucursales,left_on='sucursal',right_on='id')"
   ]
  },
  {
   "cell_type": "code",
   "execution_count": null,
   "metadata": {},
   "outputs": [],
   "source": [
    "barrios = pd.read_csv(\"barrios.csv\")"
   ]
  },
  {
   "cell_type": "code",
   "execution_count": null,
   "metadata": {},
   "outputs": [],
   "source": [
    "mapa = gpd.read_file(\"./mapa-manzanas/manzanas.shp\")"
   ]
  },
  {
   "cell_type": "code",
   "execution_count": null,
   "metadata": {},
   "outputs": [],
   "source": [
    "barrio_mapa = gpd.read_file(\"./barrios/barrios_badata.shp\")"
   ]
  },
  {
   "cell_type": "code",
   "execution_count": null,
   "metadata": {},
   "outputs": [],
   "source": [
    "barrios[\"barrio\"] = barrios[\"barrio\"].str.lower()"
   ]
  },
  {
   "cell_type": "code",
   "execution_count": null,
   "metadata": {},
   "outputs": [],
   "source": [
    "barrios[\"WKT\"] = barrios[\"WKT\"].apply(wkt.loads)"
   ]
  },
  {
   "cell_type": "code",
   "execution_count": null,
   "metadata": {},
   "outputs": [],
   "source": [
    "geometria = [Point(xy) for xy in zip(sucursales.lng,sucursales.lat)]"
   ]
  },
  {
   "cell_type": "code",
   "execution_count": null,
   "metadata": {},
   "outputs": [],
   "source": [
    "crs = {\"init\":\"epsg:4326\"}"
   ]
  },
  {
   "cell_type": "code",
   "execution_count": null,
   "metadata": {},
   "outputs": [],
   "source": [
    "geo_df = gpd.GeoDataFrame(sucursales,crs=crs,geometry=geometria)"
   ]
  },
  {
   "cell_type": "code",
   "execution_count": null,
   "metadata": {},
   "outputs": [],
   "source": [
    "fig, ax = plt.subplots(figsize = (20,20))\n",
    "mapa.plot(color='grey', ax=ax, alpha = 0.3)\n",
    "geo_df.plot(marker='.', color='blue', markersize=15, ax=ax, label = 'Sucursales')\n",
    "plt.legend(prop={'size':15})"
   ]
  },
  {
   "cell_type": "code",
   "execution_count": null,
   "metadata": {},
   "outputs": [],
   "source": [
    "undifined_points = geo_df[geo_df.localidad.str.lower().isin([\"capital federal\", \n",
    "                                          \"ciudad autónoma de buenos aires\",\n",
    "                                          \"ciudad autonoma de buenos aires\",\n",
    "                                          \"ciudad autonoma buenos aires\",\n",
    "                                          \"cap. federal\",\n",
    "                                          \"capital\",\n",
    "                                          \"cap. fed.\",\n",
    "                                          \"cdad. de bs.as\",\n",
    "                                          \"cap. fed\",\"cap.fed\"])][[\"id\",\"geometry\"]]"
   ]
  },
  {
   "cell_type": "markdown",
   "metadata": {},
   "source": [
    "## Aca se hace magia. Asiganmos correctamente los barrios a los que pertenece la sucursal"
   ]
  },
  {
   "cell_type": "code",
   "execution_count": null,
   "metadata": {},
   "outputs": [],
   "source": [
    "pnts = gpd.GeoDataFrame(geometry=undifined_points.geometry.values, index=undifined_points.id.values)\n",
    "for row in barrios[[\"barrio\",\"WKT\"]].values:\n",
    "    for point_id, value in pnts.within(row[1]).iteritems():\n",
    "        if value == True:\n",
    "            sucursales.loc[sucursales.id==point_id,\"localidad\"]=row[0]"
   ]
  },
  {
   "cell_type": "code",
   "execution_count": null,
   "metadata": {},
   "outputs": [],
   "source": [
    "sucursales.localidad.str.lower().unique()"
   ]
  },
  {
   "cell_type": "code",
   "execution_count": null,
   "metadata": {},
   "outputs": [],
   "source": [
    "sucursales.banderaDescripcion.value_counts()"
   ]
  },
  {
   "cell_type": "code",
   "execution_count": null,
   "metadata": {},
   "outputs": [],
   "source": []
  }
 ],
 "metadata": {
  "kernelspec": {
   "display_name": "Python 3",
   "language": "python",
   "name": "python3"
  },
  "language_info": {
   "codemirror_mode": {
    "name": "ipython",
    "version": 3
   },
   "file_extension": ".py",
   "mimetype": "text/x-python",
   "name": "python",
   "nbconvert_exporter": "python",
   "pygments_lexer": "ipython3",
   "version": "3.7.1"
  }
 },
 "nbformat": 4,
 "nbformat_minor": 2
}
